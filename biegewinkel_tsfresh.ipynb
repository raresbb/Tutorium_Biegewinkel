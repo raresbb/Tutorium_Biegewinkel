{
 "cells": [
  {
   "cell_type": "code",
   "execution_count": 31,
   "metadata": {},
   "outputs": [],
   "source": [
    "import os\n",
    "import matplotlib.pyplot as plt\n",
    "import pandas as pd\n",
    "import scipy.signal\n",
    "from tqdm import tqdm\n",
    "import seaborn as sns\n",
    "from tsfresh import extract_features\n",
    "from tsfresh import extract_relevant_features\n",
    "from tsfresh.feature_extraction.settings import EfficientFCParameters\n",
    "\n",
    "plt.rcParams['figure.figsize'] = (12, 8)"
   ]
  },
  {
   "cell_type": "markdown",
   "metadata": {},
   "source": [
    "## <font color=orange>  Helper Functions </font>"
   ]
  },
  {
   "cell_type": "code",
   "execution_count": 2,
   "metadata": {},
   "outputs": [],
   "source": [
    "def calculateBendingAngleAfterSpringback(df,\n",
    "                                         threshold   = 1.0,\n",
    "                                         section_dim = 200,\n",
    "                                         median      = True):\n",
    "\n",
    "      \"\"\"Iterates backwards through dataframe in section_dim rows sections and \n",
    "      calculates the difference between the first and the last bending angle of \n",
    "      the section. If the difference is greater than threshold, the section is \n",
    "      considered as out of final beding angle range and the bending angle after \n",
    "      springback is calculated as the median of the after springback range.\n",
    "      param: \n",
    "            df          : DataFrame\n",
    "            threshold   : increasing rate of bedning angle in degrees/section_dim\n",
    "            section_dim : section dimension to be considered while iterating.\n",
    "            median      : True to use a median function on the section, that \n",
    "                        is considered as part of springback range.\n",
    "      return: bending angle after springback\n",
    "      \"\"\"\n",
    "      # drop the rows where at least one element is missing\n",
    "      df.dropna(inplace=True)\n",
    "      row = len(df) - 1\n",
    "      while row > 0:\n",
    "            if abs(df['Bending_Angle'].iloc[row] - df['Bending_Angle'].iloc[row - section_dim]) > threshold:\n",
    "                  break\n",
    "            row -= section_dim\n",
    "      df_springback = df.iloc[row:]\n",
    "      if median:\n",
    "            return df_springback['Bending_Angle'].median()\n",
    "      else:\n",
    "            return df_springback['Bending_Angle'].mean()"
   ]
  },
  {
   "cell_type": "markdown",
   "metadata": {},
   "source": [
    "## <font color=orange>  1. Data preprocessing </font>"
   ]
  },
  {
   "cell_type": "code",
   "execution_count": 3,
   "metadata": {},
   "outputs": [],
   "source": [
    "# Constants\n",
    "THRESHOLD_SPRINGBACK = 0.5 # in degrees/section_dim  "
   ]
  },
  {
   "cell_type": "code",
   "execution_count": 52,
   "metadata": {},
   "outputs": [],
   "source": [
    "# create new pandas dataframe\n",
    "df_ML = pd.DataFrame(columns=['Aluminum','Thickness','Springback'])"
   ]
  },
  {
   "cell_type": "code",
   "execution_count": 53,
   "metadata": {},
   "outputs": [
    {
     "name": "stderr",
     "output_type": "stream",
     "text": [
      "100%|██████████| 363/363 [00:35<00:00, 10.22it/s]\n"
     ]
    }
   ],
   "source": [
    "# check wheter bending angle after spring back is calculated correctly\n",
    "files = os.listdir('1_Datensatz_Halbzeug_Blechdicke/Trainingsdaten/Messdaten gesamt/')\n",
    "files = [f for f in files if f.endswith('.csv')]\n",
    "springback = []\n",
    "material = []\n",
    "thickness = []\n",
    "for file in tqdm(files):\n",
    "    df = pd.read_csv('1_Datensatz_Halbzeug_Blechdicke/Trainingsdaten/Messdaten gesamt/' + str(file), sep=';', decimal=',')\n",
    "    # extract material from file name\n",
    "    material_value = int(file.split('_')[0])\n",
    "    material.append(material_value)\n",
    "    # extract thickness from file name\n",
    "    thickness_value = int(file.split('_')[1]) / 10\n",
    "    thickness.append(thickness_value)\n",
    "    # calculate springback\n",
    "    max_bending_angle = df['Bending_Angle'].max()\n",
    "    bending_angle_after_springback = calculateBendingAngleAfterSpringback(df, threshold=THRESHOLD_SPRINGBACK, section_dim=200, median=True)\n",
    "    springback_value = max_bending_angle - bending_angle_after_springback\n",
    "    springback.append(springback_value)"
   ]
  },
  {
   "cell_type": "code",
   "execution_count": 54,
   "metadata": {},
   "outputs": [],
   "source": [
    "# add the values from the lists to dataframe\n",
    "df_ML['Thickness'] = thickness\n",
    "df_ML['Springback'] = springback\n",
    "# material column is categorical and in order to avoid spurious correlation \n",
    "# between features and prediction due to numerical values, it must be binary\n",
    "df_ML['Aluminum'] = [1 if x == 1 else 0 for x in material]"
   ]
  },
  {
   "cell_type": "code",
   "execution_count": 55,
   "metadata": {},
   "outputs": [
    {
     "data": {
      "text/html": [
       "<div>\n",
       "<style scoped>\n",
       "    .dataframe tbody tr th:only-of-type {\n",
       "        vertical-align: middle;\n",
       "    }\n",
       "\n",
       "    .dataframe tbody tr th {\n",
       "        vertical-align: top;\n",
       "    }\n",
       "\n",
       "    .dataframe thead th {\n",
       "        text-align: right;\n",
       "    }\n",
       "</style>\n",
       "<table border=\"1\" class=\"dataframe\">\n",
       "  <thead>\n",
       "    <tr style=\"text-align: right;\">\n",
       "      <th></th>\n",
       "      <th>Aluminum</th>\n",
       "      <th>Thickness</th>\n",
       "      <th>Springback</th>\n",
       "    </tr>\n",
       "  </thead>\n",
       "  <tbody>\n",
       "    <tr>\n",
       "      <th>0</th>\n",
       "      <td>1</td>\n",
       "      <td>1.0</td>\n",
       "      <td>3.363434</td>\n",
       "    </tr>\n",
       "    <tr>\n",
       "      <th>1</th>\n",
       "      <td>1</td>\n",
       "      <td>1.0</td>\n",
       "      <td>3.305664</td>\n",
       "    </tr>\n",
       "    <tr>\n",
       "      <th>2</th>\n",
       "      <td>1</td>\n",
       "      <td>1.0</td>\n",
       "      <td>3.207978</td>\n",
       "    </tr>\n",
       "    <tr>\n",
       "      <th>3</th>\n",
       "      <td>1</td>\n",
       "      <td>1.0</td>\n",
       "      <td>3.411530</td>\n",
       "    </tr>\n",
       "    <tr>\n",
       "      <th>4</th>\n",
       "      <td>1</td>\n",
       "      <td>1.0</td>\n",
       "      <td>3.379150</td>\n",
       "    </tr>\n",
       "    <tr>\n",
       "      <th>...</th>\n",
       "      <td>...</td>\n",
       "      <td>...</td>\n",
       "      <td>...</td>\n",
       "    </tr>\n",
       "    <tr>\n",
       "      <th>358</th>\n",
       "      <td>0</td>\n",
       "      <td>2.0</td>\n",
       "      <td>1.536682</td>\n",
       "    </tr>\n",
       "    <tr>\n",
       "      <th>359</th>\n",
       "      <td>0</td>\n",
       "      <td>2.0</td>\n",
       "      <td>1.892334</td>\n",
       "    </tr>\n",
       "    <tr>\n",
       "      <th>360</th>\n",
       "      <td>0</td>\n",
       "      <td>2.0</td>\n",
       "      <td>1.146362</td>\n",
       "    </tr>\n",
       "    <tr>\n",
       "      <th>361</th>\n",
       "      <td>0</td>\n",
       "      <td>2.0</td>\n",
       "      <td>1.199310</td>\n",
       "    </tr>\n",
       "    <tr>\n",
       "      <th>362</th>\n",
       "      <td>0</td>\n",
       "      <td>2.0</td>\n",
       "      <td>1.113770</td>\n",
       "    </tr>\n",
       "  </tbody>\n",
       "</table>\n",
       "<p>363 rows × 3 columns</p>\n",
       "</div>"
      ],
      "text/plain": [
       "     Aluminum  Thickness  Springback\n",
       "0           1        1.0    3.363434\n",
       "1           1        1.0    3.305664\n",
       "2           1        1.0    3.207978\n",
       "3           1        1.0    3.411530\n",
       "4           1        1.0    3.379150\n",
       "..        ...        ...         ...\n",
       "358         0        2.0    1.536682\n",
       "359         0        2.0    1.892334\n",
       "360         0        2.0    1.146362\n",
       "361         0        2.0    1.199310\n",
       "362         0        2.0    1.113770\n",
       "\n",
       "[363 rows x 3 columns]"
      ]
     },
     "execution_count": 55,
     "metadata": {},
     "output_type": "execute_result"
    }
   ],
   "source": [
    "df_ML"
   ]
  },
  {
   "cell_type": "code",
   "execution_count": 42,
   "metadata": {},
   "outputs": [],
   "source": [
    "# export dataframe to csv\n",
    "df_ML.to_csv(\"df_ML.csv\", index=False)"
   ]
  },
  {
   "cell_type": "code",
   "execution_count": 43,
   "metadata": {},
   "outputs": [
    {
     "name": "stderr",
     "output_type": "stream",
     "text": [
      "100%|██████████| 363/363 [02:29<00:00,  2.43it/s]\n"
     ]
    }
   ],
   "source": [
    "# merge all dataframes into one dataframe for tsfresh\n",
    "files = os.listdir('1_Datensatz_Halbzeug_Blechdicke/Trainingsdaten/Messdaten ML/')\n",
    "files = [f for f in files if f.endswith('.csv')]\n",
    "df_forces = pd.DataFrame(columns=['id','Time','Force1','Force2','Force3'])\n",
    "id_ = 0\n",
    "for file in tqdm(files):\n",
    "    df_temp = pd.read_csv('1_Datensatz_Halbzeug_Blechdicke/Trainingsdaten/Messdaten ML/' + str(file), sep=';', decimal=',')\n",
    "    df_temp['Time'] = pd.to_datetime(df_temp['Time'])\n",
    "    df_temp['id'] = id_\n",
    "    df_forces = pd.concat([df_forces, df_temp[['id','Time','Force1','Force2','Force3']]], ignore_index=True)\n",
    "    id_ += 1\n"
   ]
  },
  {
   "cell_type": "code",
   "execution_count": 57,
   "metadata": {},
   "outputs": [],
   "source": [
    "# drop the rows where at least one element is missing\n",
    "df_forces.dropna(inplace=True)\n",
    "# change data type of columns\n",
    "df_forces['id'] = df_forces['id'].astype(int)\n",
    "df_forces['Force1'] = df_forces['Force1'].astype(float)\n",
    "df_forces['Force2'] = df_forces['Force2'].astype(float)\n",
    "df_forces['Force3'] = df_forces['Force3'].astype(float)"
   ]
  },
  {
   "cell_type": "code",
   "execution_count": 58,
   "metadata": {},
   "outputs": [
    {
     "data": {
      "text/html": [
       "<div>\n",
       "<style scoped>\n",
       "    .dataframe tbody tr th:only-of-type {\n",
       "        vertical-align: middle;\n",
       "    }\n",
       "\n",
       "    .dataframe tbody tr th {\n",
       "        vertical-align: top;\n",
       "    }\n",
       "\n",
       "    .dataframe thead th {\n",
       "        text-align: right;\n",
       "    }\n",
       "</style>\n",
       "<table border=\"1\" class=\"dataframe\">\n",
       "  <thead>\n",
       "    <tr style=\"text-align: right;\">\n",
       "      <th></th>\n",
       "      <th>id</th>\n",
       "      <th>Time</th>\n",
       "      <th>Force1</th>\n",
       "      <th>Force2</th>\n",
       "      <th>Force3</th>\n",
       "    </tr>\n",
       "  </thead>\n",
       "  <tbody>\n",
       "    <tr>\n",
       "      <th>0</th>\n",
       "      <td>0</td>\n",
       "      <td>2022-06-14 20:59:40.263000</td>\n",
       "      <td>0.557487</td>\n",
       "      <td>1.750093</td>\n",
       "      <td>2.703058</td>\n",
       "    </tr>\n",
       "    <tr>\n",
       "      <th>1</th>\n",
       "      <td>0</td>\n",
       "      <td>2022-06-14 20:59:40.268000</td>\n",
       "      <td>0.863571</td>\n",
       "      <td>2.28133</td>\n",
       "      <td>2.906976</td>\n",
       "    </tr>\n",
       "    <tr>\n",
       "      <th>2</th>\n",
       "      <td>0</td>\n",
       "      <td>2022-06-14 20:59:40.270000</td>\n",
       "      <td>0.74879</td>\n",
       "      <td>2.041008</td>\n",
       "      <td>2.805017</td>\n",
       "    </tr>\n",
       "    <tr>\n",
       "      <th>3</th>\n",
       "      <td>0</td>\n",
       "      <td>2022-06-14 20:59:40.271000</td>\n",
       "      <td>0.978353</td>\n",
       "      <td>2.19279</td>\n",
       "      <td>2.9707</td>\n",
       "    </tr>\n",
       "    <tr>\n",
       "      <th>4</th>\n",
       "      <td>0</td>\n",
       "      <td>2022-06-14 20:59:40.272000</td>\n",
       "      <td>0.723283</td>\n",
       "      <td>1.86393</td>\n",
       "      <td>2.728548</td>\n",
       "    </tr>\n",
       "    <tr>\n",
       "      <th>...</th>\n",
       "      <td>...</td>\n",
       "      <td>...</td>\n",
       "      <td>...</td>\n",
       "      <td>...</td>\n",
       "      <td>...</td>\n",
       "    </tr>\n",
       "    <tr>\n",
       "      <th>1600843</th>\n",
       "      <td>362</td>\n",
       "      <td>2022-06-14 15:24:26.434000</td>\n",
       "      <td>-33.173756</td>\n",
       "      <td>82.348546</td>\n",
       "      <td>149.705733</td>\n",
       "    </tr>\n",
       "    <tr>\n",
       "      <th>1600844</th>\n",
       "      <td>362</td>\n",
       "      <td>2022-06-14 15:24:26.435000</td>\n",
       "      <td>-33.033468</td>\n",
       "      <td>82.753298</td>\n",
       "      <td>149.731223</td>\n",
       "    </tr>\n",
       "    <tr>\n",
       "      <th>1600845</th>\n",
       "      <td>362</td>\n",
       "      <td>2022-06-14 15:24:26.436000</td>\n",
       "      <td>-33.22477</td>\n",
       "      <td>82.424437</td>\n",
       "      <td>149.680243</td>\n",
       "    </tr>\n",
       "    <tr>\n",
       "      <th>1600846</th>\n",
       "      <td>362</td>\n",
       "      <td>2022-06-14 15:24:26.438000</td>\n",
       "      <td>-32.9697</td>\n",
       "      <td>82.715352</td>\n",
       "      <td>149.731223</td>\n",
       "    </tr>\n",
       "    <tr>\n",
       "      <th>1600847</th>\n",
       "      <td>362</td>\n",
       "      <td>2022-06-14 15:24:26.439000</td>\n",
       "      <td>-33.275784</td>\n",
       "      <td>82.588868</td>\n",
       "      <td>149.336133</td>\n",
       "    </tr>\n",
       "  </tbody>\n",
       "</table>\n",
       "<p>1600848 rows × 5 columns</p>\n",
       "</div>"
      ],
      "text/plain": [
       "          id                        Time     Force1     Force2      Force3\n",
       "0          0  2022-06-14 20:59:40.263000   0.557487   1.750093    2.703058\n",
       "1          0  2022-06-14 20:59:40.268000   0.863571    2.28133    2.906976\n",
       "2          0  2022-06-14 20:59:40.270000    0.74879   2.041008    2.805017\n",
       "3          0  2022-06-14 20:59:40.271000   0.978353    2.19279      2.9707\n",
       "4          0  2022-06-14 20:59:40.272000   0.723283    1.86393    2.728548\n",
       "...      ...                         ...        ...        ...         ...\n",
       "1600843  362  2022-06-14 15:24:26.434000 -33.173756  82.348546  149.705733\n",
       "1600844  362  2022-06-14 15:24:26.435000 -33.033468  82.753298  149.731223\n",
       "1600845  362  2022-06-14 15:24:26.436000  -33.22477  82.424437  149.680243\n",
       "1600846  362  2022-06-14 15:24:26.438000   -32.9697  82.715352  149.731223\n",
       "1600847  362  2022-06-14 15:24:26.439000 -33.275784  82.588868  149.336133\n",
       "\n",
       "[1600848 rows x 5 columns]"
      ]
     },
     "execution_count": 58,
     "metadata": {},
     "output_type": "execute_result"
    }
   ],
   "source": [
    "df_forces"
   ]
  },
  {
   "cell_type": "code",
   "execution_count": 65,
   "metadata": {},
   "outputs": [
    {
     "name": "stderr",
     "output_type": "stream",
     "text": [
      "Feature Extraction:   0%|          | 0/20 [00:00<?, ?it/s]"
     ]
    }
   ],
   "source": [
    "features_filtered_direct = extract_relevant_features(df_forces, \n",
    "                                                     df_ML[\"Springback\"],\n",
    "                                                     column_id='id', \n",
    "                                                     column_sort='Time',\n",
    "                                                     default_fc_parameters=EfficientFCParameters(),\n",
    "                                                     n_jobs=4)"
   ]
  }
 ],
 "metadata": {
  "interpreter": {
   "hash": "d40a0eb0fb4748aad030fd434a26fb60855b4c8d92c34c5159ca694177ae6259"
  },
  "kernelspec": {
   "display_name": "Python 3.9.12 ('tutorium')",
   "language": "python",
   "name": "python3"
  },
  "language_info": {
   "codemirror_mode": {
    "name": "ipython",
    "version": 3
   },
   "file_extension": ".py",
   "mimetype": "text/x-python",
   "name": "python",
   "nbconvert_exporter": "python",
   "pygments_lexer": "ipython3",
   "version": "3.9.12"
  },
  "orig_nbformat": 4
 },
 "nbformat": 4,
 "nbformat_minor": 2
}
